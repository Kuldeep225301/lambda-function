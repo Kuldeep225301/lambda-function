{
 "cells": [
  {
   "cell_type": "markdown",
   "id": "425b7c2a-52dc-40c4-b8b6-b89896e6c049",
   "metadata": {},
   "source": [
    "WAP to find the power of any given integer"
   ]
  },
  {
   "cell_type": "code",
   "execution_count": 1,
   "id": "315fc7a1-b36e-4a99-b17f-e996ae09e837",
   "metadata": {
    "tags": []
   },
   "outputs": [],
   "source": [
    "n=3\n",
    "p=2"
   ]
  },
  {
   "cell_type": "code",
   "execution_count": 2,
   "id": "acc2e7a5-bc03-40f6-8101-5bf3bfd33936",
   "metadata": {
    "tags": []
   },
   "outputs": [],
   "source": [
    "def test(n,p):\n",
    "    return n**p"
   ]
  },
  {
   "cell_type": "code",
   "execution_count": 3,
   "id": "a7ab81da-6c5f-4540-a039-40f65650c0f8",
   "metadata": {
    "tags": []
   },
   "outputs": [
    {
     "data": {
      "text/plain": [
       "9"
      ]
     },
     "execution_count": 3,
     "metadata": {},
     "output_type": "execute_result"
    }
   ],
   "source": [
    "test(3,2)"
   ]
  },
  {
   "cell_type": "markdown",
   "id": "f3aae67b-70bd-43b4-bc6b-33c41bfea3e1",
   "metadata": {},
   "source": [
    "in lamda find the sqaure of any number"
   ]
  },
  {
   "cell_type": "code",
   "execution_count": 5,
   "id": "86852306-e733-483f-8855-edd87921e478",
   "metadata": {
    "tags": []
   },
   "outputs": [],
   "source": [
    "a= lambda n,p :n**p"
   ]
  },
  {
   "cell_type": "code",
   "execution_count": 6,
   "id": "98315567-2953-4972-81e4-7dc1dbb6a4fd",
   "metadata": {
    "tags": []
   },
   "outputs": [
    {
     "data": {
      "text/plain": [
       "9"
      ]
     },
     "execution_count": 6,
     "metadata": {},
     "output_type": "execute_result"
    }
   ],
   "source": [
    "a(3,2)"
   ]
  },
  {
   "cell_type": "markdown",
   "id": "68d6f0c5-f2fc-40dc-bafb-0bf39521e252",
   "metadata": {},
   "source": [
    "for add two number"
   ]
  },
  {
   "cell_type": "code",
   "execution_count": 8,
   "id": "65b7354b-0cfb-4675-adce-16618bca2d5e",
   "metadata": {
    "tags": []
   },
   "outputs": [],
   "source": [
    "add = lambda x,y :x+y"
   ]
  },
  {
   "cell_type": "code",
   "execution_count": 12,
   "id": "bbb6e39d-9d92-4bfd-97c5-2b499223544f",
   "metadata": {
    "tags": []
   },
   "outputs": [
    {
     "data": {
      "text/plain": [
       "15"
      ]
     },
     "execution_count": 12,
     "metadata": {},
     "output_type": "execute_result"
    }
   ],
   "source": [
    "add(8,7)"
   ]
  },
  {
   "cell_type": "code",
   "execution_count": 14,
   "id": "2cea4b15-96b0-4840-8940-8ba389e968a1",
   "metadata": {
    "tags": []
   },
   "outputs": [],
   "source": [
    "c_to_f = lambda c :(9/5)*c+32"
   ]
  },
  {
   "cell_type": "code",
   "execution_count": 15,
   "id": "299539b6-4aad-4372-b8bf-5ccc2933a780",
   "metadata": {
    "tags": []
   },
   "outputs": [
    {
     "data": {
      "text/plain": [
       "122.0"
      ]
     },
     "execution_count": 15,
     "metadata": {},
     "output_type": "execute_result"
    }
   ],
   "source": [
    "c_to_f(50)"
   ]
  },
  {
   "cell_type": "code",
   "execution_count": 21,
   "id": "b9250e9d-ce1e-40ae-be4d-6aeb261ef63f",
   "metadata": {
    "tags": []
   },
   "outputs": [],
   "source": [
    "finding_max = lambda a,b : a if a>b else b  "
   ]
  },
  {
   "cell_type": "code",
   "execution_count": 22,
   "id": "7cc05300-c17e-4fa9-a5bc-b06fab70a827",
   "metadata": {
    "tags": []
   },
   "outputs": [
    {
     "data": {
      "text/plain": [
       "8"
      ]
     },
     "execution_count": 22,
     "metadata": {},
     "output_type": "execute_result"
    }
   ],
   "source": [
    "finding_max(7,8)"
   ]
  },
  {
   "cell_type": "code",
   "execution_count": 33,
   "id": "aceb83c9-e559-468e-9f52-b67ab92ce86a",
   "metadata": {
    "tags": []
   },
   "outputs": [],
   "source": [
    " s = \"Kuldeep\""
   ]
  },
  {
   "cell_type": "code",
   "execution_count": null,
   "id": "dd2967c7-fe20-4ddd-b2fe-8b21124e249a",
   "metadata": {},
   "outputs": [],
   "source": []
  }
 ],
 "metadata": {
  "kernelspec": {
   "display_name": "Python 3 (ipykernel)",
   "language": "python",
   "name": "python3"
  },
  "language_info": {
   "codemirror_mode": {
    "name": "ipython",
    "version": 3
   },
   "file_extension": ".py",
   "mimetype": "text/x-python",
   "name": "python",
   "nbconvert_exporter": "python",
   "pygments_lexer": "ipython3",
   "version": "3.11.5"
  }
 },
 "nbformat": 4,
 "nbformat_minor": 5
}
